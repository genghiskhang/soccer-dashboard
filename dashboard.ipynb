{
 "cells": [
  {
   "cell_type": "code",
   "execution_count": null,
   "id": "721b73be",
   "metadata": {
    "scrolled": false
   },
   "outputs": [
    {
     "name": "stdout",
     "output_type": "stream",
     "text": [
      "Dash is running on http://127.0.0.1:8050/\n",
      "\n",
      "Dash is running on http://127.0.0.1:8050/\n",
      "\n",
      " * Serving Flask app '__main__' (lazy loading)\n",
      " * Environment: production\n",
      "\u001b[31m   WARNING: This is a development server. Do not use it in a production deployment.\u001b[0m\n",
      "\u001b[2m   Use a production WSGI server instead.\u001b[0m\n",
      " * Debug mode: off\n"
     ]
    }
   ],
   "source": [
    "#Pandas, Plotly, and NumPy modules\n",
    "import dash\n",
    "from dash import dcc\n",
    "from dash import html\n",
    "import plotly.express as px\n",
    "import pandas as pd\n",
    "\n",
    "# Modules imported to retrieve data from Google Sheets\n",
    "import gspread\n",
    "from df2gspread import df2gspread as d2g\n",
    "from oauth2client.service_account import ServiceAccountCredentials\n",
    "\n",
    "SPREADSHEET_ID = '1-kUlYLeDEQyzw2PYnLn6quq7kFYJbduI_Zrk_bQ7_9A'\n",
    "RANGE_NAME = 'PlayerOllie'\n",
    "\n",
    "playerID = {\n",
    "    1:'Lea Venezuela Ruz',\n",
    "    2:'Bryan Rios',\n",
    "    3:'Aidan McGarrity',\n",
    "    4:'Sebastian Decady',\n",
    "    5:'Dylan Savage',\n",
    "    6:'Austin Holloway',\n",
    "    7:'Collin Patterson',\n",
    "    8:'Declan Anderson',\n",
    "    9:'Owen Sheffield',\n",
    "    10:'Brady Roberton',\n",
    "    11:'James Knowlton',\n",
    "    12:'Adam Saidi',\n",
    "    13:'Michael Britton'\n",
    "}\n",
    "\n",
    "app = dash.Dash(__name__)\n",
    "\n",
    "app.layout = html.Div(children=[\n",
    "    html.H1(children='Urbana Boys Soccer Statistics Dashboard', style={'marginBottom':10, 'color':'#FFAABB'}),\n",
    "\n",
    "    html.H3(children=playerID.get(11)),\n",
    "\n",
    "    html.Img(src='assets/tanjiro.jpg', style={'width':200})\n",
    "], style={'fontFamily':\"'Lato',sans-serif\", 'marginLeft':20, 'marginRight':20})\n",
    "\n",
    "if __name__ == '__main__':\n",
    "    app.run_server(debug=False)"
   ]
  },
  {
   "cell_type": "code",
   "execution_count": null,
   "id": "e0be7d25",
   "metadata": {},
   "outputs": [],
   "source": []
  },
  {
   "cell_type": "code",
   "execution_count": null,
   "id": "9b1a8e24",
   "metadata": {},
   "outputs": [],
   "source": []
  }
 ],
 "metadata": {
  "kernelspec": {
   "display_name": "Python 3 (ipykernel)",
   "language": "python",
   "name": "python3"
  },
  "language_info": {
   "codemirror_mode": {
    "name": "ipython",
    "version": 3
   },
   "file_extension": ".py",
   "mimetype": "text/x-python",
   "name": "python",
   "nbconvert_exporter": "python",
   "pygments_lexer": "ipython3",
   "version": "3.9.7"
  }
 },
 "nbformat": 4,
 "nbformat_minor": 5
}
